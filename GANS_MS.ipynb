{
 "cells": [
  {
   "cell_type": "code",
   "execution_count": 1,
   "id": "48cce87e-dc28-4e75-8649-8f3653bd8edb",
   "metadata": {},
   "outputs": [],
   "source": [
    "from sklearn.datasets import fetch_openml\n",
    "mnist = fetch_openml('mnist_784')"
   ]
  },
  {
   "cell_type": "code",
   "execution_count": 5,
   "id": "abd99488-fff1-4217-bae0-0e2bd26ddd09",
   "metadata": {},
   "outputs": [],
   "source": [
    "from sklearn.model_selection import train_test_split\n",
    "from sklearn.preprocessing import StandardScaler"
   ]
  },
  {
   "cell_type": "code",
   "execution_count": 4,
   "id": "a18b6d1f-c716-4423-9463-02623f60d543",
   "metadata": {},
   "outputs": [],
   "source": [
    "train_img, test_img, train_lbl, test_lbl = train_test_split( mnist.data, mnist.target, test_size = 1/7.0, random_state = 0)"
   ]
  },
  {
   "cell_type": "markdown",
   "id": "f362ad73-dba9-45db-99e0-1c665494d666",
   "metadata": {},
   "source": [
    "Scaling data:\n",
    " so you need to scale the features in the data before applying PCA. You can transform the data onto unit scale (mean = 0 and variance = 1), which is a requirement for the optimal performance of many machine learning algorithms "
   ]
  },
  {
   "cell_type": "code",
   "execution_count": 11,
   "id": "e00be6ff-0749-4e7f-a19d-bef47a49aac4",
   "metadata": {},
   "outputs": [],
   "source": [
    "scaler = StandardScaler()\n",
    "#Fit on Training set\n",
    "scaler.fit(train_img) #calculate fit and variance\n",
    "\n",
    "#apply transform to training and test set\n",
    "train_img = scaler.transform(train_img) #transform features in each of the data\n",
    "test_img = scaler.transform(test_img)"
   ]
  },
  {
   "cell_type": "markdown",
   "id": "9f9c6696-d70f-43d5-af4f-85f3283ea9ea",
   "metadata": {},
   "source": [
    "## Apply PCA"
   ]
  },
  {
   "cell_type": "code",
   "execution_count": 12,
   "id": "f90fb8a8-8f60-4b46-af42-1fad836140e1",
   "metadata": {},
   "outputs": [
    {
     "name": "stdout",
     "output_type": "stream",
     "text": [
      "311\n"
     ]
    }
   ],
   "source": [
    "from sklearn.decomposition import PCA\n",
    "\n",
    "pca = PCA(.95) #.95 means that 95% of the variance is retained\n",
    "pca.fit(train_img) # calculate mean and variance\n",
    "print(pca.n_components_)"
   ]
  },
  {
   "cell_type": "code",
   "execution_count": 14,
   "id": "84661c26-26b1-4b67-bc07-a65d4877185c",
   "metadata": {},
   "outputs": [],
   "source": [
    "train_img_trans = pca.transform(train_img)\n",
    "test_img_trans = pca.transform(test_img) #transform test and train data"
   ]
  },
  {
   "cell_type": "markdown",
   "id": "c832aaa9-caba-40bf-8d2d-3931cb572323",
   "metadata": {},
   "source": [
    "## Apply log regs to transformed data"
   ]
  },
  {
   "cell_type": "code",
   "execution_count": null,
   "id": "d738a59d-b21f-41a7-8d1d-d1d1281bcf00",
   "metadata": {},
   "outputs": [],
   "source": []
  },
  {
   "cell_type": "code",
   "execution_count": null,
   "id": "c1b7933f-fcb1-430d-9138-f6d336f2373f",
   "metadata": {},
   "outputs": [],
   "source": []
  }
 ],
 "metadata": {
  "kernelspec": {
   "display_name": "Python 3 (ipykernel)",
   "language": "python",
   "name": "python3"
  },
  "language_info": {
   "codemirror_mode": {
    "name": "ipython",
    "version": 3
   },
   "file_extension": ".py",
   "mimetype": "text/x-python",
   "name": "python",
   "nbconvert_exporter": "python",
   "pygments_lexer": "ipython3",
   "version": "3.11.7"
  }
 },
 "nbformat": 4,
 "nbformat_minor": 5
}
